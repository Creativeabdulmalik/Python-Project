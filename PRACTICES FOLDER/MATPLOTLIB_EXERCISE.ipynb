{
 "cells": [
  {
   "cell_type": "markdown",
   "id": "3146f463",
   "metadata": {},
   "source": [
    "## MATPLOTLIB \n"
   ]
  },
  {
   "cell_type": "code",
   "execution_count": 47,
   "id": "4b927450",
   "metadata": {},
   "outputs": [],
   "source": [
    "import pandas as pd\n",
    "import numpy as np\n",
    "import matplotlib as plt\n",
    "import seaborn as sns"
   ]
  },
  {
   "cell_type": "markdown",
   "id": "f678ffdd",
   "metadata": {},
   "source": [
    "## LOAD DATA SET"
   ]
  },
  {
   "cell_type": "code",
   "execution_count": 8,
   "id": "2825bdaa",
   "metadata": {},
   "outputs": [],
   "source": [
    "## load car loan data set in to dataframe\n",
    "filename = 'data/table_i702t60.csv'\n",
    "df = pd.read_csv(filename)"
   ]
  },
  {
   "cell_type": "code",
   "execution_count": 9,
   "id": "a0af23b3",
   "metadata": {},
   "outputs": [
    {
     "data": {
      "application/vnd.microsoft.datawrangler.viewer.v0+json": {
       "columns": [
        {
         "name": "index",
         "rawType": "int64",
         "type": "integer"
        },
        {
         "name": "Unnamed: 0",
         "rawType": "int64",
         "type": "integer"
        },
        {
         "name": "Month",
         "rawType": "int64",
         "type": "integer"
        },
        {
         "name": "Starting Balance",
         "rawType": "float64",
         "type": "float"
        },
        {
         "name": "Repayment",
         "rawType": "float64",
         "type": "float"
        },
        {
         "name": "Interest Paid",
         "rawType": "float64",
         "type": "float"
        },
        {
         "name": "Principal Paid",
         "rawType": "float64",
         "type": "float"
        },
        {
         "name": "New Balance",
         "rawType": "float64",
         "type": "float"
        },
        {
         "name": "interest_rate",
         "rawType": "float64",
         "type": "float"
        },
        {
         "name": "car_type",
         "rawType": "object",
         "type": "string"
        }
       ],
       "conversionMethod": "pd.DataFrame",
       "ref": "66f6fd5a-7092-42af-bb2e-c6279161e53b",
       "rows": [
        [
         "0",
         "0",
         "1",
         "34689.96",
         "687.23",
         "202.93",
         "484.3",
         "34205.66",
         "0.0702",
         "Toyota Sienna"
        ],
        [
         "1",
         "1",
         "2",
         "34205.66",
         "687.23",
         "200.1",
         "487.13",
         "33718.53",
         "0.0702",
         "Toyota Sienna"
        ],
        [
         "2",
         "2",
         "3",
         "33718.53",
         "687.23",
         "197.25",
         "489.98",
         "33228.55",
         "0.0702",
         "Toyota Sienna"
        ],
        [
         "3",
         "3",
         "4",
         "33228.55",
         "687.23",
         "194.38",
         "492.85",
         "32735.7",
         "0.0702",
         "Toyota Sienna"
        ],
        [
         "4",
         "4",
         "5",
         "32735.7",
         "687.23",
         "191.5",
         "495.73",
         "32239.97",
         "0.0702",
         "Toyota Sienna"
        ]
       ],
       "shape": {
        "columns": 9,
        "rows": 5
       }
      },
      "text/html": [
       "<div>\n",
       "<style scoped>\n",
       "    .dataframe tbody tr th:only-of-type {\n",
       "        vertical-align: middle;\n",
       "    }\n",
       "\n",
       "    .dataframe tbody tr th {\n",
       "        vertical-align: top;\n",
       "    }\n",
       "\n",
       "    .dataframe thead th {\n",
       "        text-align: right;\n",
       "    }\n",
       "</style>\n",
       "<table border=\"1\" class=\"dataframe\">\n",
       "  <thead>\n",
       "    <tr style=\"text-align: right;\">\n",
       "      <th></th>\n",
       "      <th>Unnamed: 0</th>\n",
       "      <th>Month</th>\n",
       "      <th>Starting Balance</th>\n",
       "      <th>Repayment</th>\n",
       "      <th>Interest Paid</th>\n",
       "      <th>Principal Paid</th>\n",
       "      <th>New Balance</th>\n",
       "      <th>interest_rate</th>\n",
       "      <th>car_type</th>\n",
       "    </tr>\n",
       "  </thead>\n",
       "  <tbody>\n",
       "    <tr>\n",
       "      <th>0</th>\n",
       "      <td>0</td>\n",
       "      <td>1</td>\n",
       "      <td>34689.96</td>\n",
       "      <td>687.23</td>\n",
       "      <td>202.93</td>\n",
       "      <td>484.30</td>\n",
       "      <td>34205.66</td>\n",
       "      <td>0.0702</td>\n",
       "      <td>Toyota Sienna</td>\n",
       "    </tr>\n",
       "    <tr>\n",
       "      <th>1</th>\n",
       "      <td>1</td>\n",
       "      <td>2</td>\n",
       "      <td>34205.66</td>\n",
       "      <td>687.23</td>\n",
       "      <td>200.10</td>\n",
       "      <td>487.13</td>\n",
       "      <td>33718.53</td>\n",
       "      <td>0.0702</td>\n",
       "      <td>Toyota Sienna</td>\n",
       "    </tr>\n",
       "    <tr>\n",
       "      <th>2</th>\n",
       "      <td>2</td>\n",
       "      <td>3</td>\n",
       "      <td>33718.53</td>\n",
       "      <td>687.23</td>\n",
       "      <td>197.25</td>\n",
       "      <td>489.98</td>\n",
       "      <td>33228.55</td>\n",
       "      <td>0.0702</td>\n",
       "      <td>Toyota Sienna</td>\n",
       "    </tr>\n",
       "    <tr>\n",
       "      <th>3</th>\n",
       "      <td>3</td>\n",
       "      <td>4</td>\n",
       "      <td>33228.55</td>\n",
       "      <td>687.23</td>\n",
       "      <td>194.38</td>\n",
       "      <td>492.85</td>\n",
       "      <td>32735.70</td>\n",
       "      <td>0.0702</td>\n",
       "      <td>Toyota Sienna</td>\n",
       "    </tr>\n",
       "    <tr>\n",
       "      <th>4</th>\n",
       "      <td>4</td>\n",
       "      <td>5</td>\n",
       "      <td>32735.70</td>\n",
       "      <td>687.23</td>\n",
       "      <td>191.50</td>\n",
       "      <td>495.73</td>\n",
       "      <td>32239.97</td>\n",
       "      <td>0.0702</td>\n",
       "      <td>Toyota Sienna</td>\n",
       "    </tr>\n",
       "  </tbody>\n",
       "</table>\n",
       "</div>"
      ],
      "text/plain": [
       "   Unnamed: 0  Month  Starting Balance  Repayment  Interest Paid  \\\n",
       "0           0      1          34689.96     687.23         202.93   \n",
       "1           1      2          34205.66     687.23         200.10   \n",
       "2           2      3          33718.53     687.23         197.25   \n",
       "3           3      4          33228.55     687.23         194.38   \n",
       "4           4      5          32735.70     687.23         191.50   \n",
       "\n",
       "   Principal Paid  New Balance  interest_rate       car_type  \n",
       "0          484.30     34205.66         0.0702  Toyota Sienna  \n",
       "1          487.13     33718.53         0.0702  Toyota Sienna  \n",
       "2          489.98     33228.55         0.0702  Toyota Sienna  \n",
       "3          492.85     32735.70         0.0702  Toyota Sienna  \n",
       "4          495.73     32239.97         0.0702  Toyota Sienna  "
      ]
     },
     "execution_count": 9,
     "metadata": {},
     "output_type": "execute_result"
    }
   ],
   "source": [
    "## veiw the first five row\n",
    "df.head()\n"
   ]
  },
  {
   "cell_type": "code",
   "execution_count": 7,
   "id": "fbcbceae",
   "metadata": {},
   "outputs": [
    {
     "name": "stdout",
     "output_type": "stream",
     "text": [
      "<class 'pandas.core.frame.DataFrame'>\n",
      "RangeIndex: 408 entries, 0 to 407\n",
      "Data columns (total 9 columns):\n",
      " #   Column            Non-Null Count  Dtype  \n",
      "---  ------            --------------  -----  \n",
      " 0   Unnamed: 0        408 non-null    int64  \n",
      " 1   Month             408 non-null    int64  \n",
      " 2   Starting Balance  408 non-null    float64\n",
      " 3   Repayment         408 non-null    float64\n",
      " 4   Interest Paid     408 non-null    float64\n",
      " 5   Principal Paid    408 non-null    float64\n",
      " 6   New Balance       408 non-null    float64\n",
      " 7   interest_rate     408 non-null    float64\n",
      " 8   car_type          408 non-null    object \n",
      "dtypes: float64(6), int64(2), object(1)\n",
      "memory usage: 28.8+ KB\n"
     ]
    }
   ],
   "source": [
    "df.info()"
   ]
  },
  {
   "cell_type": "code",
   "execution_count": 42,
   "id": "ff2ce966",
   "metadata": {},
   "outputs": [],
   "source": [
    "Month = df.loc[:, 'Month'].values\n",
    "Interest_paid = df.loc[:, 'Interest Paid'].values\n",
    "Principal_paid = df.loc[:, 'Principal Paid'].values"
   ]
  },
  {
   "cell_type": "code",
   "execution_count": null,
   "id": "de0d781e",
   "metadata": {},
   "outputs": [],
   "source": [
    "Month"
   ]
  },
  {
   "cell_type": "code",
   "execution_count": 43,
   "id": "676fccf6",
   "metadata": {},
   "outputs": [
    {
     "data": {
      "text/plain": [
       "numpy.ndarray"
      ]
     },
     "execution_count": 43,
     "metadata": {},
     "output_type": "execute_result"
    }
   ],
   "source": [
    "## the value attribute convert a column of vale to numpy array\n",
    "type(Month)"
   ]
  },
  {
   "cell_type": "code",
   "execution_count": null,
   "id": "94146c69",
   "metadata": {},
   "outputs": [],
   "source": [
    "help(plt)"
   ]
  },
  {
   "cell_type": "code",
   "execution_count": 84,
   "id": "04f5db3c",
   "metadata": {},
   "outputs": [],
   "source": [
    "## plot month and interest paid as x and y axis\n",
    "import matplotlib as plt"
   ]
  },
  {
   "cell_type": "code",
   "execution_count": 86,
   "id": "173d841e",
   "metadata": {},
   "outputs": [
    {
     "ename": "SyntaxError",
     "evalue": "invalid syntax. Perhaps you forgot a comma? (3053548759.py, line 1)",
     "output_type": "error",
     "traceback": [
      "\u001b[1;36m  Cell \u001b[1;32mIn[86], line 1\u001b[1;36m\u001b[0m\n\u001b[1;33m    plt.plot(Month, interest Paid)\u001b[0m\n\u001b[1;37m                    ^\u001b[0m\n\u001b[1;31mSyntaxError\u001b[0m\u001b[1;31m:\u001b[0m invalid syntax. Perhaps you forgot a comma?\n"
     ]
    }
   ],
   "source": [
    "plt.plot(Month, interest Paid)"
   ]
  },
  {
   "cell_type": "code",
   "execution_count": null,
   "id": "0ae3436d",
   "metadata": {},
   "outputs": [],
   "source": []
  }
 ],
 "metadata": {
  "kernelspec": {
   "display_name": "ArewaDs-Training",
   "language": "python",
   "name": "python3"
  },
  "language_info": {
   "codemirror_mode": {
    "name": "ipython",
    "version": 3
   },
   "file_extension": ".py",
   "mimetype": "text/x-python",
   "name": "python",
   "nbconvert_exporter": "python",
   "pygments_lexer": "ipython3",
   "version": "3.12.9"
  }
 },
 "nbformat": 4,
 "nbformat_minor": 5
}
